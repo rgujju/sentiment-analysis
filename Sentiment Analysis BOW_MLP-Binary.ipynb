{
 "cells": [
  {
   "cell_type": "code",
   "execution_count": 3,
   "metadata": {},
   "outputs": [
    {
     "name": "stdout",
     "output_type": "stream",
     "text": [
      "Collecting nltk\n",
      "  Downloading https://files.pythonhosted.org/packages/cc/87/76e691bbf1759ad6af5831649aae6a8d2fa184a1bcc71018ca6300399e5f/nltk-3.2.5.tar.gz (1.2MB)\n",
      "\u001b[K    100% |################################| 1.2MB 1.0MB/s eta 0:00:01\n",
      "\u001b[?25hRequirement already satisfied: six in /usr/local/lib/python2.7/dist-packages (from nltk)\n",
      "Building wheels for collected packages: nltk\n",
      "  Running setup.py bdist_wheel for nltk ... \u001b[?25ldone\n",
      "\u001b[?25h  Stored in directory: /root/.cache/pip/wheels/da/8c/38/a8a36581975f8d03275c49960019f955e4d19fd14ae7e42d3d\n",
      "Successfully built nltk\n",
      "Installing collected packages: nltk\n",
      "Successfully installed nltk-3.2.5\n",
      "\u001b[33mYou are using pip version 9.0.3, however version 10.0.1 is available.\n",
      "You should consider upgrading via the 'pip install --upgrade pip' command.\u001b[0m\n"
     ]
    }
   ],
   "source": [
    "!pip install nltk"
   ]
  },
  {
   "cell_type": "code",
   "execution_count": 1,
   "metadata": {},
   "outputs": [
    {
     "name": "stdout",
     "output_type": "stream",
     "text": [
      "Collecting tensorflow-gpu==1.5\n",
      "  Downloading https://files.pythonhosted.org/packages/0b/80/094c2f7b05acb1089333d93c41323e93f3296eaa7a785d9848973e4e36bd/tensorflow_gpu-1.5.0-cp27-cp27mu-manylinux1_x86_64.whl (201.9MB)\n",
      "\u001b[K    100% |################################| 201.9MB 7.4kB/s eta 0:00:01\n",
      "\u001b[?25hRequirement already up-to-date: protobuf>=3.4.0 in /usr/local/lib/python2.7/dist-packages (from tensorflow-gpu==1.5)\n",
      "Requirement already up-to-date: six>=1.10.0 in /usr/local/lib/python2.7/dist-packages (from tensorflow-gpu==1.5)\n",
      "Requirement already up-to-date: wheel in /usr/local/lib/python2.7/dist-packages (from tensorflow-gpu==1.5)\n",
      "Collecting absl-py>=0.1.6 (from tensorflow-gpu==1.5)\n",
      "  Downloading https://files.pythonhosted.org/packages/90/6b/ba04a9fe6aefa56adafa6b9e0557b959e423c49950527139cb8651b0480b/absl-py-0.2.0.tar.gz (82kB)\n",
      "\u001b[K    100% |################################| 92kB 14.2MB/s ta 0:00:01\n",
      "\u001b[?25hRequirement already up-to-date: backports.weakref>=1.0rc1 in /usr/local/lib/python2.7/dist-packages (from tensorflow-gpu==1.5)\n",
      "Requirement already up-to-date: numpy>=1.12.1 in /usr/local/lib/python2.7/dist-packages (from tensorflow-gpu==1.5)\n",
      "Collecting tensorflow-tensorboard<1.6.0,>=1.5.0 (from tensorflow-gpu==1.5)\n",
      "  Downloading https://files.pythonhosted.org/packages/cd/ba/d664f7c27c710063b1cdfa0309db8fba98952e3a1ba1991ed98efffe69ed/tensorflow_tensorboard-1.5.1-py2-none-any.whl (3.0MB)\n",
      "\u001b[K    100% |################################| 3.0MB 528kB/s eta 0:00:01\n",
      "\u001b[?25hRequirement already up-to-date: enum34>=1.1.6 in /usr/local/lib/python2.7/dist-packages (from tensorflow-gpu==1.5)\n",
      "Requirement already up-to-date: mock>=2.0.0 in /usr/local/lib/python2.7/dist-packages (from tensorflow-gpu==1.5)\n",
      "Requirement already up-to-date: setuptools in /usr/local/lib/python2.7/dist-packages (from protobuf>=3.4.0->tensorflow-gpu==1.5)\n",
      "Requirement already up-to-date: werkzeug>=0.11.10 in /usr/local/lib/python2.7/dist-packages (from tensorflow-tensorboard<1.6.0,>=1.5.0->tensorflow-gpu==1.5)\n",
      "Requirement already up-to-date: futures>=3.1.1; python_version < \"3\" in /usr/local/lib/python2.7/dist-packages (from tensorflow-tensorboard<1.6.0,>=1.5.0->tensorflow-gpu==1.5)\n",
      "Requirement already up-to-date: markdown>=2.6.8 in /usr/local/lib/python2.7/dist-packages (from tensorflow-tensorboard<1.6.0,>=1.5.0->tensorflow-gpu==1.5)\n",
      "Requirement already up-to-date: html5lib==0.9999999 in /usr/local/lib/python2.7/dist-packages (from tensorflow-tensorboard<1.6.0,>=1.5.0->tensorflow-gpu==1.5)\n",
      "Requirement already up-to-date: bleach==1.5.0 in /usr/local/lib/python2.7/dist-packages (from tensorflow-tensorboard<1.6.0,>=1.5.0->tensorflow-gpu==1.5)\n",
      "Collecting pbr>=0.11 (from mock>=2.0.0->tensorflow-gpu==1.5)\n",
      "  Downloading https://files.pythonhosted.org/packages/e1/ba/f95e3ec83f93919b1437028e989cf3fa5ff4f5cae4a1f62255f71deddb5b/pbr-4.0.2-py2.py3-none-any.whl (98kB)\n",
      "\u001b[K    100% |################################| 102kB 12.8MB/s a 0:00:01\n",
      "\u001b[?25hRequirement already up-to-date: funcsigs>=1; python_version < \"3.3\" in /usr/local/lib/python2.7/dist-packages (from mock>=2.0.0->tensorflow-gpu==1.5)\n",
      "Building wheels for collected packages: absl-py\n",
      "  Running setup.py bdist_wheel for absl-py ... \u001b[?25ldone\n",
      "\u001b[?25h  Stored in directory: /root/.cache/pip/wheels/23/35/1d/48c0a173ca38690dd8dfccfa47ffc750db48f8989ed898455c\n",
      "Successfully built absl-py\n",
      "Installing collected packages: absl-py, tensorflow-tensorboard, tensorflow-gpu, pbr\n",
      "  Found existing installation: absl-py 0.1.13\n",
      "    Uninstalling absl-py-0.1.13:\n",
      "      Successfully uninstalled absl-py-0.1.13\n",
      "  Found existing installation: tensorflow-gpu 1.7.0\n",
      "    Uninstalling tensorflow-gpu-1.7.0:\n",
      "      Successfully uninstalled tensorflow-gpu-1.7.0\n",
      "  Found existing installation: pbr 4.0.1\n",
      "    Uninstalling pbr-4.0.1:\n",
      "      Successfully uninstalled pbr-4.0.1\n",
      "Successfully installed absl-py-0.2.0 pbr-4.0.2 tensorflow-gpu-1.5.0 tensorflow-tensorboard-1.5.1\n",
      "\u001b[33mYou are using pip version 9.0.3, however version 10.0.1 is available.\n",
      "You should consider upgrading via the 'pip install --upgrade pip' command.\u001b[0m\n"
     ]
    }
   ],
   "source": [
    "!pip install tensorflow-gpu==1.5 --upgrade"
   ]
  },
  {
   "cell_type": "code",
   "execution_count": 9,
   "metadata": {},
   "outputs": [
    {
     "name": "stdout",
     "output_type": "stream",
     "text": [
      "[nltk_data] Downloading package stopwords to /root/nltk_data...\n",
      "[nltk_data]   Package stopwords is already up-to-date!\n",
      "Found train File ./data/train.data.\n",
      "Found 25000 samples for train\n",
      "Found test File ./data/test.data.\n",
      "Found 25000 samples for test\n",
      "/usr/local/lib/python2.7/dist-packages/h5py/__init__.py:36: FutureWarning: Conversion of the second argument of issubdtype from `float` to `np.floating` is deprecated. In future, it will be treated as `np.float64 == np.dtype(float).type`.\n",
      "  from ._conv import register_converters as _register_converters\n",
      "Using TensorFlow backend.\n",
      "_________________________________________________________________\n",
      "Layer (type)                 Output Shape              Param #   \n",
      "=================================================================\n",
      "input_1 (InputLayer)         (None, 37234)             0         \n",
      "_________________________________________________________________\n",
      "dense_1 (Dense)              (None, 50)                1861750   \n",
      "_________________________________________________________________\n",
      "dropout_1 (Dropout)          (None, 50)                0         \n",
      "_________________________________________________________________\n",
      "dense_2 (Dense)              (None, 1)                 51        \n",
      "=================================================================\n",
      "Total params: 1,861,801\n",
      "Trainable params: 1,861,801\n",
      "Non-trainable params: 0\n",
      "_________________________________________________________________\n",
      "Train on 20000 samples, validate on 5000 samples\n",
      "Epoch 1/10\n",
      "2018-04-24 12:11:43.159178: I tensorflow/core/platform/cpu_feature_guard.cc:137] Your CPU supports instructions that this TensorFlow binary was not compiled to use: SSE4.1 SSE4.2\n",
      "2018-04-24 12:11:43.809011: I tensorflow/stream_executor/cuda/cuda_gpu_executor.cc:895] successful NUMA node read from SysFS had negative value (-1), but there must be at least one NUMA node, so returning NUMA node zero\n",
      "2018-04-24 12:11:43.809348: I tensorflow/core/common_runtime/gpu/gpu_device.cc:1105] Found device 0 with properties: \n",
      "name: Quadro P5000 major: 6 minor: 1 memoryClockRate(GHz): 1.7335\n",
      "pciBusID: 0000:00:05.0\n",
      "totalMemory: 15.90GiB freeMemory: 15.78GiB\n",
      "2018-04-24 12:11:43.809375: I tensorflow/core/common_runtime/gpu/gpu_device.cc:1195] Creating TensorFlow device (/device:GPU:0) -> (device: 0, name: Quadro P5000, pci bus id: 0000:00:05.0, compute capability: 6.1)\n",
      " - 9s - loss: 0.3403 - acc: 0.8632 - val_loss: 0.2843 - val_acc: 0.8864\n",
      "Epoch 2/10\n",
      " - 7s - loss: 0.1578 - acc: 0.9414 - val_loss: 0.3120 - val_acc: 0.8800\n",
      "Epoch 3/10\n",
      " - 7s - loss: 0.0895 - acc: 0.9702 - val_loss: 0.3658 - val_acc: 0.8806\n",
      "Epoch 4/10\n",
      " - 7s - loss: 0.0543 - acc: 0.9825 - val_loss: 0.4192 - val_acc: 0.8834\n",
      "Epoch 5/10\n",
      " - 7s - loss: 0.0316 - acc: 0.9905 - val_loss: 0.4589 - val_acc: 0.8798\n",
      "Epoch 6/10\n",
      " - 7s - loss: 0.0221 - acc: 0.9941 - val_loss: 0.5097 - val_acc: 0.8736\n",
      "Epoch 7/10\n",
      " - 7s - loss: 0.0169 - acc: 0.9954 - val_loss: 0.5288 - val_acc: 0.8756\n",
      "Epoch 8/10\n",
      " - 7s - loss: 0.0119 - acc: 0.9967 - val_loss: 0.5902 - val_acc: 0.8750\n",
      "Epoch 9/10\n",
      " - 7s - loss: 0.0111 - acc: 0.9972 - val_loss: 0.6262 - val_acc: 0.8716\n",
      "Epoch 10/10\n",
      " - 7s - loss: 0.0080 - acc: 0.9978 - val_loss: 0.6561 - val_acc: 0.8736\n",
      "Testing model on 25000\n",
      "Test Accuracy: 87.948000\n",
      "Figure(640x480)\n"
     ]
    }
   ],
   "source": [
    "!python mlpv2.py"
   ]
  }
 ],
 "metadata": {
  "kernelspec": {
   "display_name": "Python 2",
   "language": "python",
   "name": "python2"
  },
  "language_info": {
   "codemirror_mode": {
    "name": "ipython",
    "version": 2
   },
   "file_extension": ".py",
   "mimetype": "text/x-python",
   "name": "python",
   "nbconvert_exporter": "python",
   "pygments_lexer": "ipython2",
   "version": "2.7.12"
  }
 },
 "nbformat": 4,
 "nbformat_minor": 2
}
