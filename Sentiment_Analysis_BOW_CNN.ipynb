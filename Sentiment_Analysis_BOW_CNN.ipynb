{
  "nbformat": 4,
  "nbformat_minor": 0,
  "metadata": {
    "colab": {
      "name": "Sentiment Analysis BOW-CNN.ipynb",
      "version": "0.3.2",
      "views": {},
      "default_view": {},
      "provenance": [],
      "collapsed_sections": [
        "PMXfRsqiT-vx",
        "SrfskULvi1ik",
        "-G01YLlwQstO"
      ]
    },
    "kernelspec": {
      "name": "python2",
      "display_name": "Python 2"
    },
    "accelerator": "GPU"
  },
  "cells": [
    {
      "metadata": {
        "id": "pUUQZSPLSrXy",
        "colab_type": "code",
        "colab": {
          "autoexec": {
            "startup": false,
            "wait_interval": 0
          },
          "base_uri": "https://localhost:8080/",
          "height": 143
        },
        "outputId": "02f7ad07-8302-48fa-878d-6bd37ecb7065",
        "executionInfo": {
          "status": "ok",
          "timestamp": 1525024477903,
          "user_tz": -330,
          "elapsed": 20187,
          "user": {
            "displayName": "Rohit Gujarathi",
            "photoUrl": "//lh6.googleusercontent.com/-c_7kIbjqEcI/AAAAAAAAAAI/AAAAAAAABXk/42vl1mh__Q8/s50-c-k-no/photo.jpg",
            "userId": "101035475940229498414"
          }
        }
      },
      "cell_type": "code",
      "source": [
        "!apt-get install -y -qq software-properties-common python-software-properties module-init-tools\n",
        "!add-apt-repository -y ppa:alessandro-strada/ppa 2>&1 > /dev/null\n",
        "!apt-get update -qq 2>&1 > /dev/null\n",
        "!apt-get -y install -qq google-drive-ocamlfuse fuse\n",
        "from google.colab import auth\n",
        "auth.authenticate_user()\n",
        "from oauth2client.client import GoogleCredentials\n",
        "creds = GoogleCredentials.get_application_default()\n",
        "import getpass\n",
        "!google-drive-ocamlfuse -headless -id={creds.client_id} -secret={creds.client_secret} < /dev/null 2>&1 | grep URL\n",
        "vcode = getpass.getpass()\n",
        "!echo {vcode} | google-drive-ocamlfuse -headless -id={creds.client_id} -secret={creds.client_secret}"
      ],
      "execution_count": 1,
      "outputs": [
        {
          "output_type": "stream",
          "text": [
            "gpg: keybox '/tmp/tmpzq7f_thr/pubring.gpg' created\n",
            "gpg: /tmp/tmpzq7f_thr/trustdb.gpg: trustdb created\n",
            "gpg: key AD5F235DF639B041: public key \"Launchpad PPA for Alessandro Strada\" imported\n",
            "gpg: Total number processed: 1\n",
            "gpg:               imported: 1\n",
            "Warning: apt-key output should not be parsed (stdout is not a terminal)\n",
            "··········\n"
          ],
          "name": "stdout"
        }
      ]
    },
    {
      "metadata": {
        "id": "4pv2grkESzl_",
        "colab_type": "code",
        "colab": {
          "autoexec": {
            "startup": false,
            "wait_interval": 0
          },
          "base_uri": "https://localhost:8080/",
          "height": 161
        },
        "outputId": "d72e47bc-09fb-4bb1-b580-bd82eee0cba7",
        "executionInfo": {
          "status": "ok",
          "timestamp": 1525024986572,
          "user_tz": -330,
          "elapsed": 5314,
          "user": {
            "displayName": "Rohit Gujarathi",
            "photoUrl": "//lh6.googleusercontent.com/-c_7kIbjqEcI/AAAAAAAAAAI/AAAAAAAABXk/42vl1mh__Q8/s50-c-k-no/photo.jpg",
            "userId": "101035475940229498414"
          }
        }
      },
      "cell_type": "code",
      "source": [
        "!mkdir -p drive\n",
        "!google-drive-ocamlfuse drive\n",
        "import os\n",
        "os.chdir(\"drive/deep_learning/\")\n",
        "os.chdir(\"./sentiment_classification\")\n",
        "!ls"
      ],
      "execution_count": 3,
      "outputs": [
        {
          "output_type": "stream",
          "text": [
            "fuse: mountpoint is not empty\r\n",
            "fuse: if you are sure this is safe, use the 'nonempty' mount option\n",
            "bow-cnn.hdf5\t\t       output\n",
            "count_vectorizer_weights.hdf5  polar.vocab\n",
            "data\t\t\t       Sentiment Analysis BOW-CNN.ipynb\n",
            "data_stopwords\t\t       Sentiment Analysis BOW_MLP-n-grams.ipynb\n",
            "drive\t\t\t       Sentiment Classification v1.ipynb\n",
            "mlpv2.py\n"
          ],
          "name": "stdout"
        }
      ]
    },
    {
      "metadata": {
        "id": "PMXfRsqiT-vx",
        "colab_type": "text"
      },
      "cell_type": "markdown",
      "source": [
        "### Cleaning code does the following\n",
        "> convert everything to lower case\n",
        "\n",
        "> handle negations (convert \\\"don't\\\" to \\\"do not\\\")\n",
        "\n",
        "> remove tokens that are not alphabetic\n",
        "\n",
        "> filter stop words\n",
        "\n",
        "> remove tokens less than 1 character\n"
      ]
    },
    {
      "metadata": {
        "id": "WAnfDoWkTwI-",
        "colab_type": "code",
        "colab": {
          "autoexec": {
            "startup": false,
            "wait_interval": 0
          },
          "base_uri": "https://localhost:8080/",
          "height": 53
        },
        "outputId": "47407b50-55b4-4d7d-d031-b2f0ba7b4068",
        "executionInfo": {
          "status": "ok",
          "timestamp": 1525024951328,
          "user_tz": -330,
          "elapsed": 1440,
          "user": {
            "displayName": "Rohit Gujarathi",
            "photoUrl": "//lh6.googleusercontent.com/-c_7kIbjqEcI/AAAAAAAAAAI/AAAAAAAABXk/42vl1mh__Q8/s50-c-k-no/photo.jpg",
            "userId": "101035475940229498414"
          }
        }
      },
      "cell_type": "code",
      "source": [
        "from string import punctuation\n",
        "import os\n",
        "from collections import Counter\n",
        "from nltk.corpus import stopwords\n",
        "from nltk.tokenize import RegexpTokenizer\n",
        "from nltk.corpus import stopwords\n",
        "import numpy as np\n",
        "import pickle\n",
        "from sklearn.utils import shuffle\n",
        "from sklearn.model_selection import train_test_split\n",
        "import re\n",
        "\n",
        "import nltk\n",
        "nltk.download('stopwords')\n",
        "\n",
        "tokenizer = RegexpTokenizer(r'\\w+')\n",
        "stop_words = set(stopwords.words('english'))\n",
        "\n",
        "# load doc into memory\n",
        "def load_doc(filename):\n",
        "\t# open the file as read only\n",
        "\tfile = open(filename, 'r')\n",
        "\t# read all text\n",
        "\ttext = file.read()\n",
        "\t# close the file\n",
        "\tfile.close()\n",
        "\treturn text\n",
        "\n",
        "\n",
        "negations_dic = {\"isn't\":\"is not\", \"aren't\":\"are not\", \"wasn't\":\"was not\", \"weren't\":\"were not\",\n",
        "                \"haven't\":\"have not\",\"hasn't\":\"has not\",\"hadn't\":\"had not\",\"won't\":\"will not\",\n",
        "                \"wouldn't\":\"would not\", \"don't\":\"do not\", \"doesn't\":\"does not\",\"didn't\":\"did not\",\n",
        "                \"can't\":\"can not\",\"couldn't\":\"could not\",\"shouldn't\":\"should not\",\"mightn't\":\"might not\",\n",
        "                \"mustn't\":\"must not\"}\n",
        "neg_pattern = re.compile(r'\\b(' + '|'.join(negations_dic.keys()) + r')\\b')\n",
        "\n",
        "def cleanv2(text):\n",
        "\t# convert to lower case\n",
        "\ttext = text.lower()\n",
        "\t# change don't to do not, doesn't to does not\n",
        "\ttext = neg_pattern.sub(lambda x: negations_dic[x.group()], text)\n",
        "\t# remove remaining tokens that are not alphabetic\n",
        "\ttext = re.sub(\"[^a-zA-Z]\", \" \", text)\n",
        "\t# tokenize\n",
        "\ttokens = tokenizer.tokenize(text)\n",
        "\t# filter out words less than 1 character\n",
        "\ttokens = [word for word in tokens if len(word) > 1]\n",
        "\treturn tokens\t\n",
        "\n",
        "# Function to create or fetch vocabulary\n",
        "def make_vocab(vocabFile,directory='./sample'): #floyd\n",
        "\tvocabExists = os.path.isfile(vocabFile)\n",
        "\tif vocabExists:\n",
        "\t\t# Read and return vocab\n",
        "\t\tprint(\"Found vocab file {}\").format(vocabFile)\n",
        "\t\tvocab = load_doc(vocabFile)\n",
        "\t\tvocab = vocab.split('\\n')\n",
        "\t\tprint(\"Vocabulary has {} words\").format(len(vocab))\n",
        "\telse:\n",
        "\t\tprint(\"Did not find vocab file {}\").format(vocabFile)\n",
        "\t\tvocab = Counter()\n",
        "\t\t# walk through all files in the folder\n",
        "\t\tfor path, subdirs, files in os.walk(directory):\n",
        "\t\t\tfor filename in files:\n",
        "\t\t\t\t# create the full path of the file to open\n",
        "\t\t\t\tfilepath =  os.path.join(path, filename)\n",
        "\t\t\t\t# load and clean the doc\n",
        "\t\t\t\tdoc = load_doc(filepath)\n",
        "\t\t\t\ttokens = cleanv2(doc)\n",
        "\t\t\t\tvocab.update(tokens)\n",
        "\n",
        "\t\tprint(\"Number of tokens before filtering freqeuncy of occurance: {}\").format(len(vocab))\n",
        "\t\tvocab = [word for word,freq in vocab.most_common() if freq>2]\n",
        "\t\tprint(\"Number of tokens occuring more than 2 times: {}\").format(len(vocab))\n",
        "\t\t\n",
        "\t\t# Save the vocabulary file\n",
        "\t\t# convert lines to a single blob of text\n",
        "\t\tdata = '\\n'.join(vocab)\n",
        "\t\t# open file\n",
        "\t\tfile = open(vocabFile, 'w+')\n",
        "\t\t# write text\n",
        "\t\tprint(\"Saving vocabulary to {}\").format(vocabFile)\n",
        "\t\tfile.write(data)\n",
        "\t\t# close file\n",
        "\t\tfile.close()\n",
        "\treturn vocab\n",
        "\n",
        "\n",
        "# change all files to BoW representation \n",
        "# based on frequency of words in each review\n",
        "# load all docs in a directory into memory\n",
        "def process_reviews(directory,vocab):\n",
        "\treviews = list()\n",
        "\tsentiment = list()\n",
        "\t# walk through all files in the folder\n",
        "\tfor path, subdirs, files in os.walk(directory):\n",
        "\t\t\tfor filename in files:\n",
        "\t\t\t\t# create the full path of the file to open\n",
        "\t\t\t\tfilepath =  os.path.join(path, filename)\n",
        "\t\t\t\t# load the doc\n",
        "\t\t\t\tdoc = load_doc(filepath)\n",
        "\t\t\t\t# clean doc\n",
        "\t\t\t\ttokens = cleanv2(doc)\n",
        "\t\t\t\t# filter by vocab\n",
        "\t\t\t\ttokens = [word for word in tokens if word in vocab]\n",
        "\t\t\t\treview = ' '.join(tokens)\n",
        "\t\t\t\t# append review to reviews\n",
        "\t\t\t\treviews.append(review)\n",
        "\t\t\t\t# Get the sentiment as well\n",
        "\t\t\t\tsentiment.append(1 if 'pos' in filepath else 0)\n",
        "\n",
        "\treturn reviews,sentiment\n",
        "\n",
        "\n",
        "def get_data(data_file,isTrain=True):\n",
        "\tdataset_type = 'train' if isTrain else 'test'\n",
        "\tif os.path.isfile(data_file):\n",
        "\t\tprint(\"Found \"+dataset_type+\" File {}.\").format(data_file)\n",
        "\t\tdata = pickle.load(open(data_file, 'rb'))\n",
        "\t\tX,y = zip(*data)\n",
        "\n",
        "\n",
        "\telse:\n",
        "\t\tprint(\"Did not find \"+dataset_type+\" file.\")\n",
        "\t\tvocab = make_vocab('./data_stopwords/polar.vocab','./dataset/train')#floyd\n",
        "\t\tprint(\"Saved Vocabulary\")\n",
        "\t\tprint(\"processing reviews...\")\n",
        "\t\tX,y = process_reviews('./dataset/'+dataset_type,vocab) #floyd\n",
        "\t\tdata = zip(np.array(X),np.array(y))\n",
        "\t\tnp.array(data).dump('./output/'+dataset_type+'.data') #floyd\n",
        "\n",
        "\tX = np.array(X)\n",
        "\ty = np.array(y)\n",
        "\tprint(\"Found {} samples for \"+dataset_type).format(X.shape[0])\n",
        "\n",
        "\treturn X,y\n",
        "\n",
        "def ngram_tokenize(X_train,X_test,max_features=None,ngram=(1,1)):\n",
        "  from sklearn.feature_extraction.text import CountVectorizer\n",
        "  vectorizer = CountVectorizer(analyzer = \"word\", \n",
        "                               ngram_range = ngram,\n",
        "                               binary=False, # If True it is frequency else binary\n",
        "                               max_features = max_features) \n",
        "  vectorizer.fit(X_train)\n",
        "  X_train = vectorizer.transform(X_train)\n",
        "  X_test = vectorizer.transform(X_test)\n",
        "  #print vectorizer.vocabulary_\n",
        "  return X_train,X_test\n",
        "\n",
        "def train_model(model, X,y,epochs=10):\n",
        "\tfrom keras.callbacks import ModelCheckpoint\n",
        "\tX_train, X_val, y_train, y_val = train_test_split(X, y, test_size=0.2, random_state=30)\n",
        "\tsave_model = ModelCheckpoint('bow-cnn.hdf5', monitor='val_loss',save_best_only=True)\n",
        "\thist = model.fit(X_train, y_train, batch_size=32, epochs=epochs, verbose=1, callbacks=[save_model],validation_data=(X_val,y_val),shuffle=True )\n",
        "\treturn hist\n",
        "\n",
        "def test_model(model, X_test, y_test):\n",
        "\tprint(\"Testing model on {}\").format(X_test.shape[0])\n",
        "\tmodel.load_weights('bow-cnn.hdf5') #floyd\n",
        "\tloss, acc = model.evaluate(X_test, y_test, verbose=0)\n",
        "\tprint('Test Accuracy: %f' % (acc*100))\n",
        "\n",
        "def plot_loss(hist):\n",
        "\timport matplotlib.pyplot as plt\n",
        "\tloss = hist.history['loss'] #np.loadtxt('my_cnn_model_loss.csv')\n",
        "\tval_loss = hist.history['val_loss'] #np.loadtxt('my_cnn_model_val_loss.csv')\n",
        "\n",
        "\tplt.plot(loss, linewidth=3, label='train')\n",
        "\tplt.plot(val_loss, linewidth=3, label='valid')\n",
        "\tplt.grid()\n",
        "\tplt.legend()\n",
        "\tplt.xlabel('epoch')\n",
        "\tplt.ylabel('loss')\n",
        "\t#plt.ylim(1e-3, 1e-2)\n",
        "\tplt.yscale('log')\n",
        "\tplt.show()"
      ],
      "execution_count": 1,
      "outputs": [
        {
          "output_type": "stream",
          "text": [
            "[nltk_data] Downloading package stopwords to /content/nltk_data...\n",
            "[nltk_data]   Package stopwords is already up-to-date!\n"
          ],
          "name": "stdout"
        }
      ]
    },
    {
      "metadata": {
        "id": "SrfskULvi1ik",
        "colab_type": "text"
      },
      "cell_type": "markdown",
      "source": [
        "### With stop words."
      ]
    },
    {
      "metadata": {
        "id": "uYVzH2UzVvsp",
        "colab_type": "code",
        "colab": {
          "autoexec": {
            "startup": false,
            "wait_interval": 0
          },
          "base_uri": "https://localhost:8080/",
          "height": 143
        },
        "outputId": "059fe273-a2f8-4e43-dc55-dc7b4afd1244",
        "executionInfo": {
          "status": "ok",
          "timestamp": 1525018888463,
          "user_tz": -330,
          "elapsed": 42178,
          "user": {
            "displayName": "Rohit Gujarathi",
            "photoUrl": "//lh6.googleusercontent.com/-c_7kIbjqEcI/AAAAAAAAAAI/AAAAAAAABXk/42vl1mh__Q8/s50-c-k-no/photo.jpg",
            "userId": "101035475940229498414"
          }
        }
      },
      "cell_type": "code",
      "source": [
        "train_file = './data_stopwords/train.data' #floyd\n",
        "test_file = './data_stopwords/test.data' #floyd\n",
        "\n",
        "X,y = get_data(train_file,True)\n",
        "X_test,y_test = get_data(test_file,False)\n",
        "\n",
        "print(\"Tokenizing\")\n",
        "X,X_test = ngram_tokenize(X,X_test,max_features=6000,ngram=(1,1))\n",
        "print(X.shape)\n",
        "print(X_test.shape)"
      ],
      "execution_count": 22,
      "outputs": [
        {
          "output_type": "stream",
          "text": [
            "Found train File ./data_stopwords/train.data.\n",
            "Found 25000 samples for train\n",
            "Found test File ./data_stopwords/test.data.\n",
            "Found 25000 samples for test\n",
            "Tokenizing\n",
            "(25000, 6000)\n",
            "(25000, 6000)\n"
          ],
          "name": "stdout"
        }
      ]
    },
    {
      "metadata": {
        "id": "QmNnMqOCVafa",
        "colab_type": "code",
        "colab": {
          "autoexec": {
            "startup": false,
            "wait_interval": 0
          }
        }
      },
      "cell_type": "code",
      "source": [
        "def cnn_modelv1(input_shape):\n",
        "\n",
        "\tfrom keras.models import Model\n",
        "\tfrom keras.layers import Input, Dense, Dropout,Conv1D,MaxPooling1D,Flatten\n",
        "\n",
        "\tinput_layer = Input(shape=(input_shape[1],input_shape[2],))\n",
        "\tx = Conv1D(64, 3, strides=1, padding='valid', dilation_rate=1, activation='relu', use_bias=True, \n",
        "\t\t\tkernel_initializer='glorot_uniform', bias_initializer='zeros', kernel_regularizer=None, \n",
        "\t\t\tbias_regularizer=None, activity_regularizer=None, kernel_constraint=None, bias_constraint=None)(input_layer)\n",
        "\tx = MaxPooling1D(pool_size=2, strides=None, padding='valid')(x)\n",
        "\t\n",
        "\tx = Flatten()(x)\n",
        "\tx = Dense(50,activation='relu')(x)\n",
        "\tx = Dropout(0.5)(x)\n",
        "\t# x = Dense(128,activation='relu')(x)\n",
        "\t# x = Dropout(0.5)(x)\n",
        "\toutput_layer = Dense(1,activation='sigmoid')(x)\n",
        "\tmodel = Model(inputs=input_layer, outputs=output_layer)\n",
        "\n",
        "\tmodel.summary()\n",
        "\n",
        "\treturn model"
      ],
      "execution_count": 0,
      "outputs": []
    },
    {
      "metadata": {
        "id": "v9lZ27aWVbgp",
        "colab_type": "code",
        "colab": {
          "autoexec": {
            "startup": false,
            "wait_interval": 0
          },
          "base_uri": "https://localhost:8080/",
          "height": 1606
        },
        "outputId": "6e8a8fce-66f9-4793-8fd5-a66977013eda",
        "executionInfo": {
          "status": "ok",
          "timestamp": 1525019733531,
          "user_tz": -330,
          "elapsed": 831153,
          "user": {
            "displayName": "Rohit Gujarathi",
            "photoUrl": "//lh6.googleusercontent.com/-c_7kIbjqEcI/AAAAAAAAAAI/AAAAAAAABXk/42vl1mh__Q8/s50-c-k-no/photo.jpg",
            "userId": "101035475940229498414"
          }
        }
      },
      "cell_type": "code",
      "source": [
        "X = X.toarray()\n",
        "print(X.shape)\n",
        "X = X.reshape((X.shape[0],X.shape[1],1))\n",
        "print(X.shape)\n",
        "\n",
        "X_test = X_test.toarray()\n",
        "X_test = X_test.reshape((X_test.shape[0],X_test.shape[1],1))\n",
        "\n",
        "print(X.shape)\n",
        "print(X_test.shape)\n",
        "\n",
        "model = cnn_modelv1(input_shape=X.shape)\n",
        "\n",
        "model.compile(optimizer='adam',loss='binary_crossentropy',metrics=['accuracy'])\n",
        "\n",
        "hist = train_model(model,X,y,epochs=20)\n",
        "test_model(model,X_test,y_test)\n",
        "plot_loss(hist)"
      ],
      "execution_count": 23,
      "outputs": [
        {
          "output_type": "stream",
          "text": [
            "(25000, 6000)\n",
            "(25000, 6000, 1)\n",
            "(25000, 6000, 1)\n",
            "(25000, 6000, 1)\n",
            "_________________________________________________________________\n",
            "Layer (type)                 Output Shape              Param #   \n",
            "=================================================================\n",
            "input_2 (InputLayer)         (None, 6000, 1)           0         \n",
            "_________________________________________________________________\n",
            "conv1d_2 (Conv1D)            (None, 5998, 64)          256       \n",
            "_________________________________________________________________\n",
            "max_pooling1d_2 (MaxPooling1 (None, 2999, 64)          0         \n",
            "_________________________________________________________________\n",
            "flatten_2 (Flatten)          (None, 191936)            0         \n",
            "_________________________________________________________________\n",
            "dense_3 (Dense)              (None, 50)                9596850   \n",
            "_________________________________________________________________\n",
            "dropout_2 (Dropout)          (None, 50)                0         \n",
            "_________________________________________________________________\n",
            "dense_4 (Dense)              (None, 1)                 51        \n",
            "=================================================================\n",
            "Total params: 9,597,157\n",
            "Trainable params: 9,597,157\n",
            "Non-trainable params: 0\n",
            "_________________________________________________________________\n",
            "Train on 20000 samples, validate on 5000 samples\n",
            "Epoch 1/20\n",
            " 2048/20000 [==>...........................] - ETA: 34s - loss: 0.5665 - acc: 0.7173"
          ],
          "name": "stdout"
        },
        {
          "output_type": "stream",
          "text": [
            "20000/20000 [==============================] - 38s 2ms/step - loss: 0.4061 - acc: 0.8243 - val_loss: 0.3233 - val_acc: 0.8640\n",
            "Epoch 2/20\n",
            " 7648/20000 [==========>...................] - ETA: 21s - loss: 0.2926 - acc: 0.8798"
          ],
          "name": "stdout"
        },
        {
          "output_type": "stream",
          "text": [
            "20000/20000 [==============================] - 38s 2ms/step - loss: 0.2951 - acc: 0.8774 - val_loss: 0.3157 - val_acc: 0.8726\n",
            "Epoch 3/20\n",
            " 9792/20000 [=============>................] - ETA: 17s - loss: 0.2465 - acc: 0.8965"
          ],
          "name": "stdout"
        },
        {
          "output_type": "stream",
          "text": [
            "20000/20000 [==============================] - 38s 2ms/step - loss: 0.2615 - acc: 0.8905 - val_loss: 0.3093 - val_acc: 0.8794\n",
            "Epoch 4/20\n",
            "10592/20000 [==============>...............] - ETA: 16s - loss: 0.2224 - acc: 0.9067"
          ],
          "name": "stdout"
        },
        {
          "output_type": "stream",
          "text": [
            "20000/20000 [==============================] - 38s 2ms/step - loss: 0.2309 - acc: 0.9057 - val_loss: 0.3273 - val_acc: 0.8704\n",
            "Epoch 5/20\n",
            "10880/20000 [===============>..............] - ETA: 15s - loss: 0.2035 - acc: 0.9143"
          ],
          "name": "stdout"
        },
        {
          "output_type": "stream",
          "text": [
            "20000/20000 [==============================] - 38s 2ms/step - loss: 0.2057 - acc: 0.9150 - val_loss: 0.3509 - val_acc: 0.8718\n",
            "Epoch 6/20\n",
            "11008/20000 [===============>..............] - ETA: 15s - loss: 0.1830 - acc: 0.9251"
          ],
          "name": "stdout"
        },
        {
          "output_type": "stream",
          "text": [
            "20000/20000 [==============================] - 38s 2ms/step - loss: 0.1870 - acc: 0.9228 - val_loss: 0.3476 - val_acc: 0.8744\n",
            "Epoch 7/20\n",
            "11040/20000 [===============>..............] - ETA: 15s - loss: 0.1737 - acc: 0.9247"
          ],
          "name": "stdout"
        },
        {
          "output_type": "stream",
          "text": [
            "20000/20000 [==============================] - 38s 2ms/step - loss: 0.1739 - acc: 0.9248 - val_loss: 0.4063 - val_acc: 0.8750\n",
            "Epoch 8/20\n",
            "11072/20000 [===============>..............] - ETA: 15s - loss: 0.1468 - acc: 0.9373"
          ],
          "name": "stdout"
        },
        {
          "output_type": "stream",
          "text": [
            "20000/20000 [==============================] - 38s 2ms/step - loss: 0.1570 - acc: 0.9335 - val_loss: 0.3868 - val_acc: 0.8734\n",
            "Epoch 9/20\n",
            "11072/20000 [===============>..............] - ETA: 15s - loss: 0.1447 - acc: 0.9379"
          ],
          "name": "stdout"
        },
        {
          "output_type": "stream",
          "text": [
            "20000/20000 [==============================] - 38s 2ms/step - loss: 0.1462 - acc: 0.9387 - val_loss: 0.4138 - val_acc: 0.8674\n",
            "Epoch 10/20\n",
            "11040/20000 [===============>..............] - ETA: 15s - loss: 0.1300 - acc: 0.9437"
          ],
          "name": "stdout"
        },
        {
          "output_type": "stream",
          "text": [
            "20000/20000 [==============================] - 38s 2ms/step - loss: 0.1351 - acc: 0.9410 - val_loss: 0.4697 - val_acc: 0.8732\n",
            "Epoch 11/20\n",
            "11008/20000 [===============>..............] - ETA: 15s - loss: 0.1195 - acc: 0.9484"
          ],
          "name": "stdout"
        },
        {
          "output_type": "stream",
          "text": [
            "20000/20000 [==============================] - 38s 2ms/step - loss: 0.1283 - acc: 0.9434 - val_loss: 0.4780 - val_acc: 0.8720\n",
            "Epoch 12/20\n",
            "11008/20000 [===============>..............] - ETA: 15s - loss: 0.1224 - acc: 0.9444"
          ],
          "name": "stdout"
        },
        {
          "output_type": "stream",
          "text": [
            "20000/20000 [==============================] - 38s 2ms/step - loss: 0.1209 - acc: 0.9451 - val_loss: 0.4555 - val_acc: 0.8688\n",
            "Epoch 13/20\n",
            "11008/20000 [===============>..............] - ETA: 15s - loss: 0.1168 - acc: 0.9491"
          ],
          "name": "stdout"
        },
        {
          "output_type": "stream",
          "text": [
            "20000/20000 [==============================] - 38s 2ms/step - loss: 0.1194 - acc: 0.9488 - val_loss: 0.4849 - val_acc: 0.8700\n",
            "Epoch 14/20\n",
            "11008/20000 [===============>..............] - ETA: 15s - loss: 0.1119 - acc: 0.9488"
          ],
          "name": "stdout"
        },
        {
          "output_type": "stream",
          "text": [
            "20000/20000 [==============================] - 38s 2ms/step - loss: 0.1149 - acc: 0.9487 - val_loss: 0.5327 - val_acc: 0.8700\n",
            "Epoch 15/20\n",
            "11008/20000 [===============>..............] - ETA: 15s - loss: 0.1077 - acc: 0.9488"
          ],
          "name": "stdout"
        },
        {
          "output_type": "stream",
          "text": [
            "20000/20000 [==============================] - 38s 2ms/step - loss: 0.1085 - acc: 0.9487 - val_loss: 0.5733 - val_acc: 0.8708\n",
            "Epoch 16/20\n",
            "11008/20000 [===============>..............] - ETA: 15s - loss: 0.1003 - acc: 0.9525"
          ],
          "name": "stdout"
        },
        {
          "output_type": "stream",
          "text": [
            "20000/20000 [==============================] - 38s 2ms/step - loss: 0.1026 - acc: 0.9530 - val_loss: 0.5418 - val_acc: 0.8734\n",
            "Epoch 17/20\n",
            "11008/20000 [===============>..............] - ETA: 15s - loss: 0.1034 - acc: 0.9525"
          ],
          "name": "stdout"
        },
        {
          "output_type": "stream",
          "text": [
            "20000/20000 [==============================] - 38s 2ms/step - loss: 0.1034 - acc: 0.9526 - val_loss: 0.5722 - val_acc: 0.8728\n",
            "Epoch 18/20\n",
            "11008/20000 [===============>..............] - ETA: 15s - loss: 0.0916 - acc: 0.9581"
          ],
          "name": "stdout"
        },
        {
          "output_type": "stream",
          "text": [
            "20000/20000 [==============================] - 38s 2ms/step - loss: 0.0966 - acc: 0.9562 - val_loss: 0.5603 - val_acc: 0.8720\n",
            "Epoch 19/20\n",
            "11008/20000 [===============>..............] - ETA: 15s - loss: 0.0945 - acc: 0.9564"
          ],
          "name": "stdout"
        },
        {
          "output_type": "stream",
          "text": [
            "20000/20000 [==============================] - 38s 2ms/step - loss: 0.0962 - acc: 0.9568 - val_loss: 0.5933 - val_acc: 0.8702\n",
            "Epoch 20/20\n",
            "11008/20000 [===============>..............] - ETA: 15s - loss: 0.0900 - acc: 0.9584"
          ],
          "name": "stdout"
        },
        {
          "output_type": "stream",
          "text": [
            "20000/20000 [==============================] - 38s 2ms/step - loss: 0.0930 - acc: 0.9556 - val_loss: 0.6332 - val_acc: 0.8714\n",
            "Testing model on 25000\n",
            "Test Accuracy: 87.280000\n"
          ],
          "name": "stdout"
        },
        {
          "output_type": "display_data",
          "data": {
            "image/png": "[encoded data removed]",
            "text/plain": [
              "<matplotlib.figure.Figure at 0x7f1d629a2a50>"
            ]
          },
          "metadata": {
            "tags": []
          }
        }
      ]
    },
    {
      "metadata": {
        "id": "Pd_bNaKeQx9v",
        "colab_type": "code",
        "colab": {
          "autoexec": {
            "startup": false,
            "wait_interval": 0
          }
        }
      },
      "cell_type": "code",
      "source": [
        ""
      ],
      "execution_count": 0,
      "outputs": []
    },
    {
      "metadata": {
        "id": "-G01YLlwQstO",
        "colab_type": "text"
      },
      "cell_type": "markdown",
      "source": [
        "### **Without Stop words**"
      ]
    },
    {
      "metadata": {
        "id": "0SVYFdiHQ0wT",
        "colab_type": "code",
        "colab": {
          "autoexec": {
            "startup": false,
            "wait_interval": 0
          },
          "base_uri": "https://localhost:8080/",
          "height": 143
        },
        "outputId": "83a8dcd2-a1a3-496e-c54d-8713be0fbdfb",
        "executionInfo": {
          "status": "ok",
          "timestamp": 1525020252056,
          "user_tz": -330,
          "elapsed": 27393,
          "user": {
            "displayName": "Rohit Gujarathi",
            "photoUrl": "//lh6.googleusercontent.com/-c_7kIbjqEcI/AAAAAAAAAAI/AAAAAAAABXk/42vl1mh__Q8/s50-c-k-no/photo.jpg",
            "userId": "101035475940229498414"
          }
        }
      },
      "cell_type": "code",
      "source": [
        "train_file = './data/train.data' #floyd\n",
        "test_file = './data/test.data' #floyd\n",
        "\n",
        "X,y = get_data(train_file,True)\n",
        "X_test,y_test = get_data(test_file,False)\n",
        "\n",
        "print(\"Tokenizing\")\n",
        "X,X_test = ngram_tokenize(X,X_test,max_features=6000,ngram=(1,1))\n",
        "print(X.shape)\n",
        "print(X_test.shape)"
      ],
      "execution_count": 29,
      "outputs": [
        {
          "output_type": "stream",
          "text": [
            "Found train File ./data/train.data.\n",
            "Found 25000 samples for train\n",
            "Found test File ./data/test.data.\n",
            "Found 25000 samples for test\n",
            "Tokenizing\n",
            "(25000, 6000)\n",
            "(25000, 6000)\n"
          ],
          "name": "stdout"
        }
      ]
    },
    {
      "metadata": {
        "id": "RiilWWo8Qr_H",
        "colab_type": "code",
        "colab": {
          "autoexec": {
            "startup": false,
            "wait_interval": 0
          },
          "base_uri": "https://localhost:8080/",
          "height": 1606
        },
        "outputId": "bb793160-14de-4e48-ebef-f19d87ac91f3",
        "executionInfo": {
          "status": "ok",
          "timestamp": 1525021079958,
          "user_tz": -330,
          "elapsed": 816220,
          "user": {
            "displayName": "Rohit Gujarathi",
            "photoUrl": "//lh6.googleusercontent.com/-c_7kIbjqEcI/AAAAAAAAAAI/AAAAAAAABXk/42vl1mh__Q8/s50-c-k-no/photo.jpg",
            "userId": "101035475940229498414"
          }
        }
      },
      "cell_type": "code",
      "source": [
        "X = X.toarray()\n",
        "print(X.shape)\n",
        "X = X.reshape((X.shape[0],X.shape[1],1))\n",
        "print(X.shape)\n",
        "\n",
        "X_test = X_test.toarray()\n",
        "X_test = X_test.reshape((X_test.shape[0],X_test.shape[1],1))\n",
        "\n",
        "print(X.shape)\n",
        "print(X_test.shape)\n",
        "\n",
        "model = cnn_modelv1(input_shape=X.shape)\n",
        "\n",
        "model.compile(optimizer='adam',loss='binary_crossentropy',metrics=['accuracy'])\n",
        "\n",
        "hist = train_model(model,X,y,epochs=20)\n",
        "test_model(model,X_test,y_test)\n",
        "plot_loss(hist)"
      ],
      "execution_count": 30,
      "outputs": [
        {
          "output_type": "stream",
          "text": [
            "(25000, 6000)\n",
            "(25000, 6000, 1)\n",
            "(25000, 6000, 1)\n",
            "(25000, 6000, 1)\n",
            "_________________________________________________________________\n",
            "Layer (type)                 Output Shape              Param #   \n",
            "=================================================================\n",
            "input_4 (InputLayer)         (None, 6000, 1)           0         \n",
            "_________________________________________________________________\n",
            "conv1d_4 (Conv1D)            (None, 5998, 64)          256       \n",
            "_________________________________________________________________\n",
            "max_pooling1d_4 (MaxPooling1 (None, 2999, 64)          0         \n",
            "_________________________________________________________________\n",
            "flatten_4 (Flatten)          (None, 191936)            0         \n",
            "_________________________________________________________________\n",
            "dense_7 (Dense)              (None, 50)                9596850   \n",
            "_________________________________________________________________\n",
            "dropout_4 (Dropout)          (None, 50)                0         \n",
            "_________________________________________________________________\n",
            "dense_8 (Dense)              (None, 1)                 51        \n",
            "=================================================================\n",
            "Total params: 9,597,157\n",
            "Trainable params: 9,597,157\n",
            "Non-trainable params: 0\n",
            "_________________________________________________________________\n",
            "Train on 20000 samples, validate on 5000 samples\n",
            "Epoch 1/20\n",
            " 2112/20000 [==>...........................] - ETA: 34s - loss: 0.5270 - acc: 0.7401"
          ],
          "name": "stdout"
        },
        {
          "output_type": "stream",
          "text": [
            "20000/20000 [==============================] - 38s 2ms/step - loss: 0.3785 - acc: 0.8371 - val_loss: 0.3452 - val_acc: 0.8524\n",
            "Epoch 2/20\n",
            " 7680/20000 [==========>...................] - ETA: 21s - loss: 0.2539 - acc: 0.9001"
          ],
          "name": "stdout"
        },
        {
          "output_type": "stream",
          "text": [
            "20000/20000 [==============================] - 38s 2ms/step - loss: 0.2668 - acc: 0.8929 - val_loss: 0.3202 - val_acc: 0.8736\n",
            "Epoch 3/20\n",
            " 9792/20000 [=============>................] - ETA: 17s - loss: 0.2006 - acc: 0.9218"
          ],
          "name": "stdout"
        },
        {
          "output_type": "stream",
          "text": [
            "20000/20000 [==============================] - 38s 2ms/step - loss: 0.2158 - acc: 0.9157 - val_loss: 0.3336 - val_acc: 0.8704\n",
            "Epoch 4/20\n",
            "10592/20000 [==============>...............] - ETA: 16s - loss: 0.1681 - acc: 0.9339"
          ],
          "name": "stdout"
        },
        {
          "output_type": "stream",
          "text": [
            "20000/20000 [==============================] - 38s 2ms/step - loss: 0.1698 - acc: 0.9331 - val_loss: 0.4051 - val_acc: 0.8662\n",
            "Epoch 5/20\n",
            "10880/20000 [===============>..............] - ETA: 15s - loss: 0.1440 - acc: 0.9452"
          ],
          "name": "stdout"
        },
        {
          "output_type": "stream",
          "text": [
            "20000/20000 [==============================] - 38s 2ms/step - loss: 0.1470 - acc: 0.9440 - val_loss: 0.4109 - val_acc: 0.8648\n",
            "Epoch 6/20\n",
            "11008/20000 [===============>..............] - ETA: 15s - loss: 0.1175 - acc: 0.9535"
          ],
          "name": "stdout"
        },
        {
          "output_type": "stream",
          "text": [
            "20000/20000 [==============================] - 38s 2ms/step - loss: 0.1263 - acc: 0.9497 - val_loss: 0.4425 - val_acc: 0.8710\n",
            "Epoch 7/20\n",
            "11040/20000 [===============>..............] - ETA: 15s - loss: 0.1093 - acc: 0.9556"
          ],
          "name": "stdout"
        },
        {
          "output_type": "stream",
          "text": [
            "20000/20000 [==============================] - 38s 2ms/step - loss: 0.1162 - acc: 0.9535 - val_loss: 0.4751 - val_acc: 0.8680\n",
            "Epoch 8/20\n",
            "11072/20000 [===============>..............] - ETA: 15s - loss: 0.1002 - acc: 0.9604"
          ],
          "name": "stdout"
        },
        {
          "output_type": "stream",
          "text": [
            "20000/20000 [==============================] - 38s 2ms/step - loss: 0.1030 - acc: 0.9585 - val_loss: 0.5171 - val_acc: 0.8724\n",
            "Epoch 9/20\n",
            "11072/20000 [===============>..............] - ETA: 15s - loss: 0.0920 - acc: 0.9633"
          ],
          "name": "stdout"
        },
        {
          "output_type": "stream",
          "text": [
            "20000/20000 [==============================] - 38s 2ms/step - loss: 0.0990 - acc: 0.9611 - val_loss: 0.4758 - val_acc: 0.8690\n",
            "Epoch 10/20\n",
            "11040/20000 [===============>..............] - ETA: 15s - loss: 0.0830 - acc: 0.9667"
          ],
          "name": "stdout"
        },
        {
          "output_type": "stream",
          "text": [
            "20000/20000 [==============================] - 38s 2ms/step - loss: 0.0867 - acc: 0.9645 - val_loss: 0.5407 - val_acc: 0.8676\n",
            "Epoch 11/20\n",
            "11008/20000 [===============>..............] - ETA: 15s - loss: 0.0707 - acc: 0.9694"
          ],
          "name": "stdout"
        },
        {
          "output_type": "stream",
          "text": [
            "20000/20000 [==============================] - 38s 2ms/step - loss: 0.0782 - acc: 0.9684 - val_loss: 0.5502 - val_acc: 0.8622\n",
            "Epoch 12/20\n",
            "11008/20000 [===============>..............] - ETA: 15s - loss: 0.0750 - acc: 0.9686"
          ],
          "name": "stdout"
        },
        {
          "output_type": "stream",
          "text": [
            "20000/20000 [==============================] - 38s 2ms/step - loss: 0.0776 - acc: 0.9676 - val_loss: 0.5674 - val_acc: 0.8602\n",
            "Epoch 13/20\n",
            "11008/20000 [===============>..............] - ETA: 15s - loss: 0.0698 - acc: 0.9712"
          ],
          "name": "stdout"
        },
        {
          "output_type": "stream",
          "text": [
            "20000/20000 [==============================] - 38s 2ms/step - loss: 0.0712 - acc: 0.9704 - val_loss: 0.6058 - val_acc: 0.8632\n",
            "Epoch 14/20\n",
            "11008/20000 [===============>..............] - ETA: 15s - loss: 0.0627 - acc: 0.9733"
          ],
          "name": "stdout"
        },
        {
          "output_type": "stream",
          "text": [
            "20000/20000 [==============================] - 38s 2ms/step - loss: 0.0685 - acc: 0.9716 - val_loss: 0.5849 - val_acc: 0.8622\n",
            "Epoch 15/20\n",
            "11008/20000 [===============>..............] - ETA: 15s - loss: 0.0661 - acc: 0.9710"
          ],
          "name": "stdout"
        },
        {
          "output_type": "stream",
          "text": [
            "20000/20000 [==============================] - 38s 2ms/step - loss: 0.0660 - acc: 0.9711 - val_loss: 0.6417 - val_acc: 0.8662\n",
            "Epoch 16/20\n",
            "11008/20000 [===============>..............] - ETA: 15s - loss: 0.0622 - acc: 0.9750"
          ],
          "name": "stdout"
        },
        {
          "output_type": "stream",
          "text": [
            "20000/20000 [==============================] - 38s 2ms/step - loss: 0.0674 - acc: 0.9731 - val_loss: 0.5823 - val_acc: 0.8640\n",
            "Epoch 17/20\n",
            "11008/20000 [===============>..............] - ETA: 15s - loss: 0.0543 - acc: 0.9764"
          ],
          "name": "stdout"
        },
        {
          "output_type": "stream",
          "text": [
            "20000/20000 [==============================] - 38s 2ms/step - loss: 0.0589 - acc: 0.9753 - val_loss: 0.6202 - val_acc: 0.8694\n",
            "Epoch 18/20\n",
            "11008/20000 [===============>..............] - ETA: 15s - loss: 0.0578 - acc: 0.9744"
          ],
          "name": "stdout"
        },
        {
          "output_type": "stream",
          "text": [
            "20000/20000 [==============================] - 38s 2ms/step - loss: 0.0631 - acc: 0.9724 - val_loss: 0.6557 - val_acc: 0.8708\n",
            "Epoch 19/20\n",
            "11008/20000 [===============>..............] - ETA: 15s - loss: 0.0580 - acc: 0.9753"
          ],
          "name": "stdout"
        },
        {
          "output_type": "stream",
          "text": [
            "20000/20000 [==============================] - 38s 2ms/step - loss: 0.0615 - acc: 0.9750 - val_loss: 0.6351 - val_acc: 0.8646\n",
            "Epoch 20/20\n",
            "11008/20000 [===============>..............] - ETA: 15s - loss: 0.0497 - acc: 0.9782"
          ],
          "name": "stdout"
        },
        {
          "output_type": "stream",
          "text": [
            "20000/20000 [==============================] - 38s 2ms/step - loss: 0.0523 - acc: 0.9773 - val_loss: 0.6621 - val_acc: 0.8678\n",
            "Testing model on 25000\n",
            "Test Accuracy: 86.692000\n"
          ],
          "name": "stdout"
        },
        {
          "output_type": "display_data",
          "data": {
            "image/png": "[encoded data removed]",
            "text/plain": [
              "<matplotlib.figure.Figure at 0x7f1d5f4565d0>"
            ]
          },
          "metadata": {
            "tags": []
          }
        }
      ]
    },
    {
      "metadata": {
        "id": "730TYjnVhW5a",
        "colab_type": "text"
      },
      "cell_type": "markdown",
      "source": [
        "### Increasing number of CNN layers"
      ]
    },
    {
      "metadata": {
        "id": "cKzReYOkhzbh",
        "colab_type": "code",
        "colab": {
          "autoexec": {
            "startup": false,
            "wait_interval": 0
          },
          "base_uri": "https://localhost:8080/",
          "height": 143
        },
        "outputId": "d9f30f26-57c1-482b-dc97-2616cfd97efa",
        "executionInfo": {
          "status": "ok",
          "timestamp": 1525025037484,
          "user_tz": -330,
          "elapsed": 43240,
          "user": {
            "displayName": "Rohit Gujarathi",
            "photoUrl": "//lh6.googleusercontent.com/-c_7kIbjqEcI/AAAAAAAAAAI/AAAAAAAABXk/42vl1mh__Q8/s50-c-k-no/photo.jpg",
            "userId": "101035475940229498414"
          }
        }
      },
      "cell_type": "code",
      "source": [
        "train_file = './data_stopwords/train.data' #floyd\n",
        "test_file = './data_stopwords/test.data' #floyd\n",
        "\n",
        "X,y = get_data(train_file,True)\n",
        "X_test,y_test = get_data(test_file,False)\n",
        "\n",
        "print(\"Tokenizing\")\n",
        "X,X_test = ngram_tokenize(X,X_test,max_features=5000,ngram=(1,1))\n",
        "\n",
        "X = X.toarray()\n",
        "X = X.reshape((X.shape[0],X.shape[1],1))\n",
        "\n",
        "X_test = X_test.toarray()\n",
        "X_test = X_test.reshape((X_test.shape[0],X_test.shape[1],1))\n",
        "\n",
        "print(X.shape)\n",
        "print(X_test.shape)"
      ],
      "execution_count": 4,
      "outputs": [
        {
          "output_type": "stream",
          "text": [
            "Found train File ./data_stopwords/train.data.\n",
            "Found 25000 samples for train\n",
            "Found test File ./data_stopwords/test.data.\n",
            "Found 25000 samples for test\n",
            "Tokenizing\n",
            "(25000, 5000, 1)\n",
            "(25000, 5000, 1)\n"
          ],
          "name": "stdout"
        }
      ]
    },
    {
      "metadata": {
        "id": "MyVj5W0fhTI5",
        "colab_type": "code",
        "colab": {
          "autoexec": {
            "startup": false,
            "wait_interval": 0
          },
          "base_uri": "https://localhost:8080/",
          "height": 1678
        },
        "outputId": "29d404ca-5849-432f-e94a-2ce596bd809e",
        "executionInfo": {
          "status": "ok",
          "timestamp": 1525025473690,
          "user_tz": -330,
          "elapsed": 432782,
          "user": {
            "displayName": "Rohit Gujarathi",
            "photoUrl": "//lh6.googleusercontent.com/-c_7kIbjqEcI/AAAAAAAAAAI/AAAAAAAABXk/42vl1mh__Q8/s50-c-k-no/photo.jpg",
            "userId": "101035475940229498414"
          }
        }
      },
      "cell_type": "code",
      "source": [
        "def cnn_modelv2(input_shape):\n",
        "\n",
        "  from keras.models import Model\n",
        "  from keras.layers import Input, Dense, Dropout,Conv1D,MaxPooling1D,Flatten\n",
        "\n",
        "  input_layer = Input(shape=(input_shape[1],input_shape[2],))\n",
        "  x = Conv1D(16, 3, strides=1, padding='valid', dilation_rate=1, activation='relu', use_bias=True, \n",
        "      kernel_initializer='glorot_uniform', bias_initializer='zeros', kernel_regularizer=None, \n",
        "      bias_regularizer=None, activity_regularizer=None, kernel_constraint=None, bias_constraint=None)(input_layer)\n",
        "  x = MaxPooling1D(pool_size=2, strides=None, padding='valid')(x)\n",
        "\n",
        "  x = Conv1D(32, 3, strides=1, padding='valid', dilation_rate=1, activation='relu', use_bias=True, \n",
        "      kernel_initializer='glorot_uniform', bias_initializer='zeros', kernel_regularizer=None, \n",
        "      bias_regularizer=None, activity_regularizer=None, kernel_constraint=None, bias_constraint=None)(x)\n",
        "  x = MaxPooling1D(pool_size=2, strides=None, padding='valid')(x)\n",
        "\n",
        "  x = Flatten()(x)\n",
        "  x = Dense(200,activation='relu')(x)\n",
        "  x = Dropout(0.5)(x)\n",
        "  # x = Dense(128,activation='relu')(x)\n",
        "  # x = Dropout(0.5)(x)\n",
        "  output_layer = Dense(1,activation='sigmoid')(x)\n",
        "  model = Model(inputs=input_layer, outputs=output_layer)\n",
        "\n",
        "  model.summary()\n",
        "\n",
        "  return model\n",
        "\n",
        "model = cnn_modelv2(input_shape=X.shape)\n",
        "\n",
        "model.compile(optimizer='adam',loss='binary_crossentropy',metrics=['accuracy'])\n",
        "\n",
        "hist = train_model(model,X,y,epochs=20)\n",
        "test_model(model,X_test,y_test)\n",
        "plot_loss(hist)"
      ],
      "execution_count": 5,
      "outputs": [
        {
          "output_type": "stream",
          "text": [
            "Using TensorFlow backend.\n"
          ],
          "name": "stderr"
        },
        {
          "output_type": "stream",
          "text": [
            "WARNING:tensorflow:From /usr/local/lib/python2.7/dist-packages/tensorflow/python/util/deprecation.py:497: calling conv1d (from tensorflow.python.ops.nn_ops) with data_format=NHWC is deprecated and will be removed in a future version.\n",
            "Instructions for updating:\n",
            "`NHWC` for data_format is deprecated, use `NWC` instead\n",
            "_________________________________________________________________\n",
            "Layer (type)                 Output Shape              Param #   \n",
            "=================================================================\n",
            "input_1 (InputLayer)         (None, 5000, 1)           0         \n",
            "_________________________________________________________________\n",
            "conv1d_1 (Conv1D)            (None, 4998, 16)          64        \n",
            "_________________________________________________________________\n",
            "max_pooling1d_1 (MaxPooling1 (None, 2499, 16)          0         \n",
            "_________________________________________________________________\n",
            "conv1d_2 (Conv1D)            (None, 2497, 32)          1568      \n",
            "_________________________________________________________________\n",
            "max_pooling1d_2 (MaxPooling1 (None, 1248, 32)          0         \n",
            "_________________________________________________________________\n",
            "flatten_1 (Flatten)          (None, 39936)             0         \n",
            "_________________________________________________________________\n",
            "dense_1 (Dense)              (None, 200)               7987400   \n",
            "_________________________________________________________________\n",
            "dropout_1 (Dropout)          (None, 200)               0         \n",
            "_________________________________________________________________\n",
            "dense_2 (Dense)              (None, 1)                 201       \n",
            "=================================================================\n",
            "Total params: 7,989,233\n",
            "Trainable params: 7,989,233\n",
            "Non-trainable params: 0\n",
            "_________________________________________________________________\n",
            "Train on 20000 samples, validate on 5000 samples\n",
            "Epoch 1/20\n",
            " 3040/20000 [===>..........................] - ETA: 22s - loss: 0.5655 - acc: 0.7299"
          ],
          "name": "stdout"
        },
        {
          "output_type": "stream",
          "text": [
            "20000/20000 [==============================] - 21s 1ms/step - loss: 0.4022 - acc: 0.8262 - val_loss: 0.3234 - val_acc: 0.8670\n",
            "Epoch 2/20\n",
            "20000/20000 [==============================] - 20s 986us/step - loss: 0.2783 - acc: 0.8860 - val_loss: 0.3264 - val_acc: 0.8642\n",
            "Epoch 3/20\n",
            " 1504/20000 [=>............................] - ETA: 16s - loss: 0.2345 - acc: 0.9129"
          ],
          "name": "stdout"
        },
        {
          "output_type": "stream",
          "text": [
            "20000/20000 [==============================] - 19s 971us/step - loss: 0.2278 - acc: 0.9082 - val_loss: 0.3217 - val_acc: 0.8676\n",
            "Epoch 4/20\n",
            "20000/20000 [==============================] - 20s 984us/step - loss: 0.1832 - acc: 0.9274 - val_loss: 0.3720 - val_acc: 0.8680\n",
            "Epoch 5/20\n",
            "  992/20000 [>.............................] - ETA: 17s - loss: 0.1413 - acc: 0.9466"
          ],
          "name": "stdout"
        },
        {
          "output_type": "stream",
          "text": [
            "20000/20000 [==============================] - 19s 974us/step - loss: 0.1434 - acc: 0.9465 - val_loss: 0.3812 - val_acc: 0.8680\n",
            "Epoch 6/20\n",
            "20000/20000 [==============================] - 19s 969us/step - loss: 0.1064 - acc: 0.9586 - val_loss: 0.4225 - val_acc: 0.8642\n",
            "Epoch 7/20\n",
            "  864/20000 [>.............................] - ETA: 17s - loss: 0.0707 - acc: 0.9838"
          ],
          "name": "stdout"
        },
        {
          "output_type": "stream",
          "text": [
            "20000/20000 [==============================] - 19s 971us/step - loss: 0.0775 - acc: 0.9716 - val_loss: 0.4677 - val_acc: 0.8626\n",
            "Epoch 8/20\n",
            "20000/20000 [==============================] - 19s 972us/step - loss: 0.0663 - acc: 0.9755 - val_loss: 0.4921 - val_acc: 0.8676\n",
            "Epoch 9/20\n",
            "  864/20000 [>.............................] - ETA: 17s - loss: 0.0494 - acc: 0.9803"
          ],
          "name": "stdout"
        },
        {
          "output_type": "stream",
          "text": [
            "20000/20000 [==============================] - 19s 968us/step - loss: 0.0591 - acc: 0.9783 - val_loss: 0.5415 - val_acc: 0.8626\n",
            "Epoch 10/20\n",
            "20000/20000 [==============================] - 20s 975us/step - loss: 0.0540 - acc: 0.9805 - val_loss: 0.5569 - val_acc: 0.8624\n",
            "Epoch 11/20\n",
            "  800/20000 [>.............................] - ETA: 17s - loss: 0.0255 - acc: 0.9900"
          ],
          "name": "stdout"
        },
        {
          "output_type": "stream",
          "text": [
            "20000/20000 [==============================] - 19s 971us/step - loss: 0.0403 - acc: 0.9858 - val_loss: 0.6063 - val_acc: 0.8668\n",
            "Epoch 12/20\n",
            "20000/20000 [==============================] - 19s 974us/step - loss: 0.0410 - acc: 0.9843 - val_loss: 0.6280 - val_acc: 0.8612\n",
            "Epoch 13/20\n",
            "  800/20000 [>.............................] - ETA: 17s - loss: 0.0179 - acc: 0.9938"
          ],
          "name": "stdout"
        },
        {
          "output_type": "stream",
          "text": [
            "20000/20000 [==============================] - 19s 971us/step - loss: 0.0365 - acc: 0.9871 - val_loss: 0.6339 - val_acc: 0.8624\n",
            "Epoch 14/20\n",
            "20000/20000 [==============================] - 19s 973us/step - loss: 0.0348 - acc: 0.9873 - val_loss: 0.6679 - val_acc: 0.8654\n",
            "Epoch 15/20\n",
            "  800/20000 [>.............................] - ETA: 17s - loss: 0.0263 - acc: 0.9900"
          ],
          "name": "stdout"
        },
        {
          "output_type": "stream",
          "text": [
            "20000/20000 [==============================] - 19s 972us/step - loss: 0.0348 - acc: 0.9869 - val_loss: 0.6040 - val_acc: 0.8608\n",
            "Epoch 16/20\n",
            "20000/20000 [==============================] - 19s 972us/step - loss: 0.0327 - acc: 0.9880 - val_loss: 0.6381 - val_acc: 0.8620\n",
            "Epoch 17/20\n",
            "  800/20000 [>.............................] - ETA: 18s - loss: 0.0292 - acc: 0.9888"
          ],
          "name": "stdout"
        },
        {
          "output_type": "stream",
          "text": [
            "20000/20000 [==============================] - 20s 977us/step - loss: 0.0282 - acc: 0.9896 - val_loss: 0.7236 - val_acc: 0.8668\n",
            "Epoch 18/20\n",
            "20000/20000 [==============================] - 19s 973us/step - loss: 0.0289 - acc: 0.9895 - val_loss: 0.7110 - val_acc: 0.8680\n",
            "Epoch 19/20\n",
            "  800/20000 [>.............................] - ETA: 17s - loss: 0.0215 - acc: 0.9938"
          ],
          "name": "stdout"
        },
        {
          "output_type": "stream",
          "text": [
            "20000/20000 [==============================] - 19s 970us/step - loss: 0.0284 - acc: 0.9897 - val_loss: 0.6752 - val_acc: 0.8668\n",
            "Epoch 20/20\n",
            "20000/20000 [==============================] - 19s 970us/step - loss: 0.0252 - acc: 0.9912 - val_loss: 0.6977 - val_acc: 0.8624\n",
            "Testing model on 25000\n",
            "Test Accuracy: 87.356000\n"
          ],
          "name": "stdout"
        },
        {
          "output_type": "display_data",
          "data": {
            "image/png": "[encoded data removed]",
            "text/plain": [
              "<matplotlib.figure.Figure at 0x7fe820df5e10>"
            ]
          },
          "metadata": {
            "tags": []
          }
        }
      ]
    },
    {
      "metadata": {
        "id": "dn-UQLRaiOQ_",
        "colab_type": "code",
        "colab": {
          "autoexec": {
            "startup": false,
            "wait_interval": 0
          }
        }
      },
      "cell_type": "code",
      "source": [
        ""
      ],
      "execution_count": 0,
      "outputs": []
    }
  ]
}