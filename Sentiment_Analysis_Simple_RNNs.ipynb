{
  "nbformat": 4,
  "nbformat_minor": 0,
  "metadata": {
    "colab": {
      "name": "Sentiment Analysis Simple-RNNs.ipynb",
      "version": "0.3.2",
      "views": {},
      "default_view": {},
      "provenance": [
        {
          "file_id": "1jFu9bHavrk0elTOHpQ98yKogBZf4G_h_",
          "timestamp": 1532858243515
        }
      ],
      "collapsed_sections": [
        "PMXfRsqiT-vx",
        "SrfskULvi1ik",
        "-G01YLlwQstO"
      ]
    },
    "kernelspec": {
      "name": "python2",
      "display_name": "Python 2"
    },
    "accelerator": "GPU"
  },
  "cells": [
    {
      "metadata": {
        "id": "pUUQZSPLSrXy",
        "colab_type": "code",
        "colab": {
          "autoexec": {
            "startup": false,
            "wait_interval": 0
          },
          "base_uri": "https://localhost:8080/",
          "height": 219
        },
        "outputId": "10e3bce3-4c94-4622-9f3a-3ff53fa1dc93",
        "executionInfo": {
          "status": "ok",
          "timestamp": 1532858404898,
          "user_tz": -330,
          "elapsed": 27931,
          "user": {
            "displayName": "Rohit Gujarathi",
            "photoUrl": "//lh6.googleusercontent.com/-c_7kIbjqEcI/AAAAAAAAAAI/AAAAAAAABXk/42vl1mh__Q8/s50-c-k-no/photo.jpg",
            "userId": "101035475940229498414"
          }
        }
      },
      "cell_type": "code",
      "source": [
        "!apt-get install -y -qq software-properties-common python-software-properties module-init-tools\n",
        "!add-apt-repository -y ppa:alessandro-strada/ppa 2>&1 > /dev/null\n",
        "!apt-get update -qq 2>&1 > /dev/null\n",
        "!apt-get -y install -qq google-drive-ocamlfuse fuse\n",
        "from google.colab import auth\n",
        "auth.authenticate_user()\n",
        "from oauth2client.client import GoogleCredentials\n",
        "creds = GoogleCredentials.get_application_default()\n",
        "import getpass\n",
        "!google-drive-ocamlfuse -headless -id={creds.client_id} -secret={creds.client_secret} < /dev/null 2>&1 | grep URL\n",
        "vcode = getpass.getpass()\n",
        "!echo {vcode} | google-drive-ocamlfuse -headless -id={creds.client_id} -secret={creds.client_secret}"
      ],
      "execution_count": 3,
      "outputs": [
        {
          "output_type": "stream",
          "text": [
            "gpg: keybox '/tmp/tmpw965wyn1/pubring.gpg' created\n",
            "gpg: /tmp/tmpw965wyn1/trustdb.gpg: trustdb created\n",
            "gpg: key AD5F235DF639B041: public key \"Launchpad PPA for Alessandro Strada\" imported\n",
            "gpg: Total number processed: 1\n",
            "gpg:               imported: 1\n",
            "Warning: apt-key output should not be parsed (stdout is not a terminal)\n",
            "Please, open the following URL in a web browser: https://accounts.google.com/o/oauth2/auth?client_id=32555940559.apps.googleusercontent.com&redirect_uri=urn%3Aietf%3Awg%3Aoauth%3A2.0%3Aoob&scope=https%3A%2F%2Fwww.googleapis.com%2Fauth%2Fdrive&response_type=code&access_type=offline&approval_prompt=force\n",
            "··········\n",
            "Please, open the following URL in a web browser: https://accounts.google.com/o/oauth2/auth?client_id=32555940559.apps.googleusercontent.com&redirect_uri=urn%3Aietf%3Awg%3Aoauth%3A2.0%3Aoob&scope=https%3A%2F%2Fwww.googleapis.com%2Fauth%2Fdrive&response_type=code&access_type=offline&approval_prompt=force\n",
            "Please enter the verification code: Access token retrieved correctly.\n"
          ],
          "name": "stdout"
        }
      ]
    },
    {
      "metadata": {
        "id": "4pv2grkESzl_",
        "colab_type": "code",
        "colab": {
          "autoexec": {
            "startup": false,
            "wait_interval": 0
          },
          "base_uri": "https://localhost:8080/",
          "height": 145
        },
        "outputId": "714bede0-77ea-4ff0-87dc-ebe0d2bbdbb6",
        "executionInfo": {
          "status": "ok",
          "timestamp": 1532858411324,
          "user_tz": -330,
          "elapsed": 6352,
          "user": {
            "displayName": "Rohit Gujarathi",
            "photoUrl": "//lh6.googleusercontent.com/-c_7kIbjqEcI/AAAAAAAAAAI/AAAAAAAABXk/42vl1mh__Q8/s50-c-k-no/photo.jpg",
            "userId": "101035475940229498414"
          }
        }
      },
      "cell_type": "code",
      "source": [
        "!mkdir -p drive\n",
        "!google-drive-ocamlfuse drive\n",
        "import os\n",
        "os.chdir(\"drive/deep_learning/\")\n",
        "os.chdir(\"./sentiment_classification\")\n",
        "!ls"
      ],
      "execution_count": 4,
      "outputs": [
        {
          "output_type": "stream",
          "text": [
            "bow-cnn.hdf5\t\t       polar.vocab\r\n",
            "count_vectorizer_weights.hdf5  Sentiment Analysis BOW-CNN.ipynb\r\n",
            "data\t\t\t       Sentiment Analysis BOW_MLP-n-grams.ipynb\r\n",
            "data_stopwords\t\t       Sentiment Analysis Embeddings-CNN.ipynb\r\n",
            "drive\t\t\t       Sentiment Analysis Embeddings-MLP.ipynb\r\n",
            "mlpv2.py\t\t       X_test_embeddings.pkl\r\n",
            "output\t\t\t       X_train_embeddings.pkl\r\n"
          ],
          "name": "stdout"
        }
      ]
    },
    {
      "metadata": {
        "id": "PMXfRsqiT-vx",
        "colab_type": "text"
      },
      "cell_type": "markdown",
      "source": [
        "### Cleaning code does the following\n",
        "> convert everything to lower case\n",
        "\n",
        "> handle negations (convert \\\"don't\\\" to \\\"do not\\\")\n",
        "\n",
        "> remove tokens that are not alphabetic\n",
        "\n",
        "> filter stop words\n",
        "\n",
        "> remove tokens less than 1 character\n"
      ]
    },
    {
      "metadata": {
        "id": "WAnfDoWkTwI-",
        "colab_type": "code",
        "colab": {
          "autoexec": {
            "startup": false,
            "wait_interval": 0
          },
          "base_uri": "https://localhost:8080/",
          "height": 54
        },
        "outputId": "9b049ff4-62d1-4dd1-bf6c-8eb892013993",
        "executionInfo": {
          "status": "ok",
          "timestamp": 1532870842071,
          "user_tz": -330,
          "elapsed": 1067,
          "user": {
            "displayName": "Rohit Gujarathi",
            "photoUrl": "//lh6.googleusercontent.com/-c_7kIbjqEcI/AAAAAAAAAAI/AAAAAAAABXk/42vl1mh__Q8/s50-c-k-no/photo.jpg",
            "userId": "101035475940229498414"
          }
        }
      },
      "cell_type": "code",
      "source": [
        "from string import punctuation\n",
        "import os\n",
        "from collections import Counter\n",
        "from nltk.corpus import stopwords\n",
        "from nltk.tokenize import RegexpTokenizer\n",
        "from nltk.corpus import stopwords\n",
        "import numpy as np\n",
        "import pickle\n",
        "from sklearn.utils import shuffle\n",
        "from sklearn.model_selection import train_test_split\n",
        "import re\n",
        "import keras.backend as K\n",
        "\n",
        "import nltk\n",
        "nltk.download('stopwords')\n",
        "\n",
        "tokenizer = RegexpTokenizer(r'\\w+')\n",
        "stop_words = set(stopwords.words('english'))\n",
        "\n",
        "# load doc into memory\n",
        "def load_doc(filename):\n",
        "\t# open the file as read only\n",
        "\tfile = open(filename, 'r')\n",
        "\t# read all text\n",
        "\ttext = file.read()\n",
        "\t# close the file\n",
        "\tfile.close()\n",
        "\treturn text\n",
        "\n",
        "\n",
        "negations_dic = {\"isn't\":\"is not\", \"aren't\":\"are not\", \"wasn't\":\"was not\", \"weren't\":\"were not\",\n",
        "                \"haven't\":\"have not\",\"hasn't\":\"has not\",\"hadn't\":\"had not\",\"won't\":\"will not\",\n",
        "                \"wouldn't\":\"would not\", \"don't\":\"do not\", \"doesn't\":\"does not\",\"didn't\":\"did not\",\n",
        "                \"can't\":\"can not\",\"couldn't\":\"could not\",\"shouldn't\":\"should not\",\"mightn't\":\"might not\",\n",
        "                \"mustn't\":\"must not\"}\n",
        "neg_pattern = re.compile(r'\\b(' + '|'.join(negations_dic.keys()) + r')\\b')\n",
        "\n",
        "def cleanv2(text):\n",
        "\t# convert to lower case\n",
        "\ttext = text.lower()\n",
        "\t# change don't to do not, doesn't to does not\n",
        "\ttext = neg_pattern.sub(lambda x: negations_dic[x.group()], text)\n",
        "\t# remove remaining tokens that are not alphabetic\n",
        "\ttext = re.sub(\"[^a-zA-Z]\", \" \", text)\n",
        "\t# tokenize\n",
        "\ttokens = tokenizer.tokenize(text)\n",
        "\t# filter out words less than 1 character\n",
        "\ttokens = [word for word in tokens if len(word) > 1]\n",
        "\treturn tokens\t\n",
        "\n",
        "# Function to create or fetch vocabulary\n",
        "def get_vocab(vocabFile,directory='./sample'): #floyd\n",
        "\tvocabExists = os.path.isfile(vocabFile)\n",
        "\tif vocabExists:\n",
        "\t\t# Read and return vocab\n",
        "\t\tprint(\"Found vocab file {}\").format(vocabFile)\n",
        "\t\tvocab = load_doc(vocabFile)\n",
        "\t\tvocab = vocab.split('\\n')\n",
        "\t\tprint(\"Vocabulary has {} words\").format(len(vocab))\n",
        "\telse:\n",
        "\t\tprint(\"Did not find vocab file {}\").format(vocabFile)\n",
        "\t\tvocab = Counter()\n",
        "\t\t# walk through all files in the folder\n",
        "\t\tfor path, subdirs, files in os.walk(directory):\n",
        "\t\t\tfor filename in files:\n",
        "\t\t\t\t# create the full path of the file to open\n",
        "\t\t\t\tfilepath =  os.path.join(path, filename)\n",
        "\t\t\t\t# load and clean the doc\n",
        "\t\t\t\tdoc = load_doc(filepath)\n",
        "\t\t\t\ttokens = cleanv2(doc)\n",
        "\t\t\t\tvocab.update(tokens)\n",
        "\n",
        "\t\tprint(\"Number of tokens before filtering freqeuncy of occurance: {}\").format(len(vocab))\n",
        "\t\tvocab = [word for word,freq in vocab.most_common() if freq>2]\n",
        "\t\tprint(\"Number of tokens occuring more than 2 times: {}\").format(len(vocab))\n",
        "\t\t\n",
        "\t\t# Save the vocabulary file\n",
        "\t\t# convert lines to a single blob of text\n",
        "\t\tdata = '\\n'.join(vocab)\n",
        "\t\t# open file\n",
        "\t\tfile = open(vocabFile, 'w+')\n",
        "\t\t# write text\n",
        "\t\tprint(\"Saving vocabulary to {}\").format(vocabFile)\n",
        "\t\tfile.write(data)\n",
        "\t\t# close file\n",
        "\t\tfile.close()\n",
        "\treturn vocab\n",
        "\n",
        "\n",
        "# change all files to BoW representation \n",
        "# based on frequency of words in each review\n",
        "# load all docs in a directory into memory\n",
        "def process_reviews(directory,vocab):\n",
        "\treviews = list()\n",
        "\tsentiment = list()\n",
        "\t# walk through all files in the folder\n",
        "\tfor path, subdirs, files in os.walk(directory):\n",
        "\t\t\tfor filename in files:\n",
        "\t\t\t\t# create the full path of the file to open\n",
        "\t\t\t\tfilepath =  os.path.join(path, filename)\n",
        "\t\t\t\t# load the doc\n",
        "\t\t\t\tdoc = load_doc(filepath)\n",
        "\t\t\t\t# clean doc\n",
        "\t\t\t\ttokens = cleanv2(doc)\n",
        "\t\t\t\t# filter by vocab\n",
        "\t\t\t\ttokens = [word for word in tokens if word in vocab]\n",
        "\t\t\t\treview = ' '.join(tokens)\n",
        "\t\t\t\t# append review to reviews\n",
        "\t\t\t\treviews.append(review)\n",
        "\t\t\t\t# Get the sentiment as well\n",
        "\t\t\t\tsentiment.append(1 if 'pos' in filepath else 0)\n",
        "\n",
        "\treturn reviews,sentiment\n",
        "\n",
        "\n",
        "def get_data(data_file,isTrain=True):\n",
        "\tdataset_type = 'train' if isTrain else 'test'\n",
        "\tif os.path.isfile(data_file):\n",
        "\t\tprint(\"Found \"+dataset_type+\" File {}.\").format(data_file)\n",
        "\t\tdata = pickle.load(open(data_file, 'rb'))\n",
        "\t\tX,y = zip(*data)\n",
        "\n",
        "\n",
        "\telse:\n",
        "\t\tprint(\"Did not find \"+dataset_type+\" file.\")\n",
        "\t\tvocab = make_vocab('./data_stopwords/polar.vocab','./dataset/train')#floyd\n",
        "\t\tprint(\"Saved Vocabulary\")\n",
        "\t\tprint(\"processing reviews...\")\n",
        "\t\tX,y = process_reviews('./dataset/'+dataset_type,vocab) #floyd\n",
        "\t\tdata = zip(np.array(X),np.array(y))\n",
        "\t\tnp.array(data).dump('./output/'+dataset_type+'.data') #floyd\n",
        "\n",
        "\tX = np.array(X)\n",
        "\ty = np.array(y)\n",
        "\tprint(\"Found {} samples for \"+dataset_type).format(X.shape[0])\n",
        "\n",
        "\treturn X,y\n",
        "\n",
        "def ngram_tokenize(X_train,X_test,max_features=None,ngram=(1,1)):\n",
        "  from sklearn.feature_extraction.text import CountVectorizer\n",
        "  vectorizer = CountVectorizer(analyzer = \"word\", \n",
        "                               ngram_range = ngram,\n",
        "                               binary=False, # If True it is frequency else binary\n",
        "                               max_features = max_features) \n",
        "  vectorizer.fit(X_train)\n",
        "  X_train = vectorizer.transform(X_train)\n",
        "  X_test = vectorizer.transform(X_test)\n",
        "  #print vectorizer.vocabulary_\n",
        "  return X_train,X_test\n",
        "\n",
        "def train_model(model, X,y,epochs=10):\n",
        "\tfrom keras.callbacks import ModelCheckpoint\n",
        "\tX_train, X_val, y_train, y_val = train_test_split(X, y, test_size=0.2, random_state=30)\n",
        "\tsave_model = ModelCheckpoint('weights.hdf5', monitor='val_loss',save_best_only=True)\n",
        "\thist = model.fit(X_train, y_train, batch_size=32, epochs=epochs, verbose=1, callbacks=[save_model],validation_data=(X_val,y_val),shuffle=True )\n",
        "\treturn hist\n",
        "\n",
        "def test_model(model, X_test, y_test):\n",
        "\tprint(\"Testing model on {}\").format(X_test.shape[0])\n",
        "\tmodel.load_weights('weights.hdf5') #floyd\n",
        "\tloss, acc = model.evaluate(X_test, y_test, verbose=0)\n",
        "\tprint('Test Accuracy: %f' % (acc*100))\n",
        "\n",
        "def plot_loss(hist):\n",
        "\timport matplotlib.pyplot as plt\n",
        "\tloss = hist.history['loss'] #np.loadtxt('my_cnn_model_loss.csv')\n",
        "\tval_loss = hist.history['val_loss'] #np.loadtxt('my_cnn_model_val_loss.csv')\n",
        "\n",
        "\tplt.plot(loss, linewidth=3, label='train')\n",
        "\tplt.plot(val_loss, linewidth=3, label='valid')\n",
        "\tplt.grid()\n",
        "\tplt.legend()\n",
        "\tplt.xlabel('epoch')\n",
        "\tplt.ylabel('loss')\n",
        "\t#plt.ylim(1e-3, 1e-2)\n",
        "\tplt.yscale('log')\n",
        "\tplt.show()"
      ],
      "execution_count": 34,
      "outputs": [
        {
          "output_type": "stream",
          "text": [
            "[nltk_data] Downloading package stopwords to /content/nltk_data...\n",
            "[nltk_data]   Package stopwords is already up-to-date!\n"
          ],
          "name": "stdout"
        }
      ]
    },
    {
      "metadata": {
        "id": "6Ee5eEyfNrsw",
        "colab_type": "text"
      },
      "cell_type": "markdown",
      "source": [
        "### Create Embeddings"
      ]
    },
    {
      "metadata": {
        "id": "mrlzbqOvEsjt",
        "colab_type": "code",
        "colab": {
          "autoexec": {
            "startup": false,
            "wait_interval": 0
          }
        }
      },
      "cell_type": "code",
      "source": [
        "# Uses sklearns LabelEncoder API for coverting words to numbers representation\n",
        "# Changed create_embeddings to get_embeddings, now we can directly fetch the embeddings\n",
        "def get_embeddingsv2(X_train,X_test,vocab_size,max_length,vocab,stop_words,file_exists):\n",
        "  \n",
        "  if file_exists:\n",
        "    print \"Fetching Data\"\n",
        "    if stop_words:\n",
        "      X_train2 = pickle.load(open('X_train_stop_words_embeddings.pkl', 'rb'))\n",
        "      X_test2 = pickle.load(open('X_test_stop_words_embeddings.pkl', 'rb'))\n",
        "    else:\n",
        "      X_train2 = pickle.load(open('X_train_embeddings.pkl', 'rb'))\n",
        "      X_test2 = pickle.load(open('X_test_embeddings.pkl', 'rb'))    \n",
        "    return X_train2,X_test2\n",
        "  \n",
        "  from sklearn.preprocessing import LabelEncoder\n",
        "  from keras.preprocessing.sequence import pad_sequences\n",
        "\n",
        "  label_encoder = LabelEncoder()\n",
        "  # Remove words that are not present in the training dataset\n",
        "  #X_train_full = ' '.join(X_train)\n",
        "  #X_train_full = X_train_full.split(' ')\n",
        "  label_encoder.fit(vocab)\n",
        "  \n",
        "  print(\"Vocabulary contains {} words\").format(len(label_encoder.classes_))\n",
        "\n",
        "  print \"Encoding training data\"\n",
        "  X_train2 = []\n",
        "  for i,review in enumerate(X_train):\n",
        "    X_train2.append(label_encoder.transform(X_train[i].split(' ')))\n",
        "  \n",
        "  print \"Encoding testing data\"  \n",
        "  X_test2 = []\n",
        "  for i,review in enumerate(X_test):\n",
        "    X_test2.append(label_encoder.transform(X_test[i].split(' ')))\n",
        "    \n",
        "  print \"Padding\"\n",
        "  # pad documents to a max length\n",
        "  X_train2 = pad_sequences(X_train2, maxlen=max_length, padding='post',truncating='post')\n",
        "  X_test2 = pad_sequences(X_test2, maxlen=max_length, padding='post',truncating='post')\n",
        "  \n",
        "  print \"Saving\"\n",
        "  if stop_words:\n",
        "    np.array(X_train2).dump('X_train_stop_words_embeddings.pkl')\n",
        "    np.array(X_test2).dump('X_test_stop_words_embeddings.pkl')\n",
        "  else:\n",
        "    np.array(X_train2).dump('X_train_embeddings.pkl')\n",
        "    np.array(X_test2).dump('X_test_embeddings.pkl')\n",
        "      \n",
        "  return X_train2,X_test2"
      ],
      "execution_count": 0,
      "outputs": []
    },
    {
      "metadata": {
        "id": "SrfskULvi1ik",
        "colab_type": "text"
      },
      "cell_type": "markdown",
      "source": [
        "## With stop words."
      ]
    },
    {
      "metadata": {
        "id": "uYVzH2UzVvsp",
        "colab_type": "code",
        "colab": {
          "autoexec": {
            "startup": false,
            "wait_interval": 0
          },
          "base_uri": "https://localhost:8080/",
          "height": 254
        },
        "outputId": "49761f33-96d8-4f07-aeb0-75849c2c92fe",
        "executionInfo": {
          "status": "ok",
          "timestamp": 1532871279185,
          "user_tz": -330,
          "elapsed": 434681,
          "user": {
            "displayName": "Rohit Gujarathi",
            "photoUrl": "//lh6.googleusercontent.com/-c_7kIbjqEcI/AAAAAAAAAAI/AAAAAAAABXk/42vl1mh__Q8/s50-c-k-no/photo.jpg",
            "userId": "101035475940229498414"
          }
        }
      },
      "cell_type": "code",
      "source": [
        "train_file = './data_stopwords/train.data' #floyd\n",
        "test_file = './data_stopwords/test.data' #floyd\n",
        "vocab_file = './data_stopwords/polar.vocab'\n",
        "\n",
        "X,y = get_data(train_file,True)\n",
        "X_test,y_test = get_data(test_file,False)\n",
        "vocab = get_vocab(vocab_file)\n",
        "\n",
        "max_length = 500\n",
        "X,X_test = get_embeddingsv2(X,X_test,len(vocab),max_length,vocab,stop_words=True,file_exists=False)\n",
        "\n",
        "print(X.shape)\n",
        "print(X_test.shape)"
      ],
      "execution_count": 36,
      "outputs": [
        {
          "output_type": "stream",
          "text": [
            "Found train File ./data_stopwords/train.data.\n",
            "Found 25000 samples for train\n",
            "Found test File ./data_stopwords/test.data.\n",
            "Found 25000 samples for test\n",
            "Found vocab file ./data_stopwords/polar.vocab\n",
            "Vocabulary has 37372 words\n",
            "Vocabulary contains 37372 words\n",
            "Encoding training data\n",
            "Encoding testing data\n",
            "Padding\n",
            "Saving\n",
            "(25000, 500)\n",
            "(25000, 500)\n"
          ],
          "name": "stdout"
        }
      ]
    },
    {
      "metadata": {
        "id": "Fnyvx9VdNYRa",
        "colab_type": "text"
      },
      "cell_type": "markdown",
      "source": [
        "### Trying to do many to one model"
      ]
    },
    {
      "metadata": {
        "id": "a105HlLmNWdq",
        "colab_type": "text"
      },
      "cell_type": "markdown",
      "source": [
        "#### Vanilla RNN"
      ]
    },
    {
      "metadata": {
        "id": "QmNnMqOCVafa",
        "colab_type": "code",
        "colab": {
          "autoexec": {
            "startup": false,
            "wait_interval": 0
          }
        }
      },
      "cell_type": "code",
      "source": [
        "def vanilla_rnn_modelv1(input_shape):\n",
        "\n",
        "\tfrom keras.models import Model\n",
        "\tfrom keras.layers import Input, Dense, Dropout,Flatten, SimpleRNN\n",
        "\n",
        "\tinput_layer = Input(shape=(input_shape[1],input_shape[2],))\n",
        "\tx = SimpleRNN(units=32,recurrent_dropout=0.5,dropout=0.5,return_sequences=False,stateful=False)(input_layer)\n",
        "\toutput_layer = Dense(1,activation='sigmoid')(x)\n",
        "\tmodel = Model(inputs=input_layer, outputs=output_layer)\n",
        "\n",
        "\tmodel.summary()\n",
        "\n",
        "\treturn model"
      ],
      "execution_count": 0,
      "outputs": []
    },
    {
      "metadata": {
        "id": "v9lZ27aWVbgp",
        "colab_type": "code",
        "colab": {
          "autoexec": {
            "startup": false,
            "wait_interval": 0
          },
          "base_uri": "https://localhost:8080/",
          "height": 781
        },
        "outputId": "556745b1-82ea-4477-f035-2d5231268d3c",
        "executionInfo": {
          "status": "ok",
          "timestamp": 1532871779308,
          "user_tz": -330,
          "elapsed": 479065,
          "user": {
            "displayName": "Rohit Gujarathi",
            "photoUrl": "//lh6.googleusercontent.com/-c_7kIbjqEcI/AAAAAAAAAAI/AAAAAAAABXk/42vl1mh__Q8/s50-c-k-no/photo.jpg",
            "userId": "101035475940229498414"
          }
        }
      },
      "cell_type": "code",
      "source": [
        "X = X.reshape(X.shape[0],X.shape[1],1)\n",
        "X_test = X_test.reshape(X_test.shape[0],X_test.shape[1],1)\n",
        "print(X.shape)\n",
        "print(X_test.shape)\n",
        "\n",
        "model = vanilla_rnn_modelv1(input_shape=X.shape)\n",
        "\n",
        "model.compile(optimizer='adam',loss='binary_crossentropy',metrics=['accuracy'])\n",
        "\n",
        "hist = train_model(model,X,y,epochs=2)\n",
        "test_model(model,X_test,y_test)\n",
        "plot_loss(hist)\n",
        "K.clear_session()"
      ],
      "execution_count": 39,
      "outputs": [
        {
          "output_type": "stream",
          "text": [
            "(25000, 500, 1)\n",
            "(25000, 500, 1)\n",
            "_________________________________________________________________\n",
            "Layer (type)                 Output Shape              Param #   \n",
            "=================================================================\n",
            "input_3 (InputLayer)         (None, 500, 1)            0         \n",
            "_________________________________________________________________\n",
            "simple_rnn_3 (SimpleRNN)     (None, 32)                1088      \n",
            "_________________________________________________________________\n",
            "dense_3 (Dense)              (None, 1)                 33        \n",
            "=================================================================\n",
            "Total params: 1,121\n",
            "Trainable params: 1,121\n",
            "Non-trainable params: 0\n",
            "_________________________________________________________________\n",
            "Train on 20000 samples, validate on 5000 samples\n",
            "Epoch 1/2\n",
            " 3456/20000 [====>.........................] - ETA: 2:42 - loss: 8.1204 - acc: 0.0052"
          ],
          "name": "stdout"
        },
        {
          "output_type": "stream",
          "text": [
            "20000/20000 [==============================] - 207s 10ms/step - loss: 7.9523 - acc: 9.0000e-04 - val_loss: 7.9871 - val_acc: 0.0000e+00\n",
            "Epoch 2/2\n",
            " 7584/20000 [==========>...................] - ETA: 2:01 - loss: 7.8955 - acc: 0.0000e+00"
          ],
          "name": "stdout"
        },
        {
          "output_type": "stream",
          "text": [
            "20000/20000 [==============================] - 207s 10ms/step - loss: 7.9672 - acc: 0.0000e+00 - val_loss: 7.9871 - val_acc: 0.0000e+00\n",
            "Testing model on 25000\n",
            "Test Accuracy: 0.000000\n"
          ],
          "name": "stdout"
        },
        {
          "output_type": "display_data",
          "data": {
            "image/png": "[encoded data removed]",
            "text/plain": [
              "<matplotlib.figure.Figure at 0x7f120641fb50>"
            ]
          },
          "metadata": {
            "tags": []
          }
        }
      ]
    },
    {
      "metadata": {
        "id": "e2E9BwKhNHU0",
        "colab_type": "text"
      },
      "cell_type": "markdown",
      "source": [
        "#### LSTM"
      ]
    },
    {
      "metadata": {
        "id": "YzjwkyqYMNP4",
        "colab_type": "code",
        "colab": {
          "autoexec": {
            "startup": false,
            "wait_interval": 0
          }
        }
      },
      "cell_type": "code",
      "source": [
        "def LSTM_modelv1(input_shape):\n",
        "\n",
        "\tfrom keras.models import Model\n",
        "\tfrom keras.layers import Input, Dense, Dropout,Flatten, LSTM\n",
        "\n",
        "\tinput_layer = Input(shape=(input_shape[1],input_shape[2],))\n",
        "\tx = LSTM(units=32,recurrent_dropout=0.5,dropout=0.5,return_sequences=False,stateful=False)(input_layer)\n",
        "\toutput_layer = Dense(1,activation='sigmoid')(x)\n",
        "\tmodel = Model(inputs=input_layer, outputs=output_layer)\n",
        "\n",
        "\tmodel.summary()\n",
        "\n",
        "\treturn model"
      ],
      "execution_count": 0,
      "outputs": []
    }
  ]
}